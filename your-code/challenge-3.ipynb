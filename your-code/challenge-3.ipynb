{
 "cells": [
  {
   "cell_type": "code",
   "execution_count": 54,
   "metadata": {},
   "outputs": [],
   "source": [
    "from github import Github\n",
    "import re\n",
    "import requests\n",
    "import base64"
   ]
  },
  {
   "cell_type": "code",
   "execution_count": 76,
   "metadata": {},
   "outputs": [],
   "source": [
    "g=Github(<token>)"
   ]
  },
  {
   "cell_type": "code",
   "execution_count": 4,
   "metadata": {},
   "outputs": [],
   "source": [
    "repo=g.get_repo(\"ironhack-datalabs/scavenger\")"
   ]
  },
  {
   "cell_type": "code",
   "execution_count": 5,
   "metadata": {},
   "outputs": [],
   "source": [
    "contenidos=repo.get_contents(\"\")"
   ]
  },
  {
   "cell_type": "code",
   "execution_count": 6,
   "metadata": {},
   "outputs": [
    {
     "data": {
      "text/plain": [
       "[ContentFile(path=\".gitignore\"),\n",
       " ContentFile(path=\"15024\"),\n",
       " ContentFile(path=\"15534\"),\n",
       " ContentFile(path=\"17020\"),\n",
       " ContentFile(path=\"30351\"),\n",
       " ContentFile(path=\"40303\"),\n",
       " ContentFile(path=\"44639\"),\n",
       " ContentFile(path=\"45525\"),\n",
       " ContentFile(path=\"47222\"),\n",
       " ContentFile(path=\"47830\"),\n",
       " ContentFile(path=\"49418\"),\n",
       " ContentFile(path=\"50896\"),\n",
       " ContentFile(path=\"55417\"),\n",
       " ContentFile(path=\"55685\"),\n",
       " ContentFile(path=\"60224\"),\n",
       " ContentFile(path=\"64880\"),\n",
       " ContentFile(path=\"66032\"),\n",
       " ContentFile(path=\"68848\"),\n",
       " ContentFile(path=\"70751\"),\n",
       " ContentFile(path=\"70985\"),\n",
       " ContentFile(path=\"88596\"),\n",
       " ContentFile(path=\"89046\"),\n",
       " ContentFile(path=\"89338\"),\n",
       " ContentFile(path=\"91701\"),\n",
       " ContentFile(path=\"97881\"),\n",
       " ContentFile(path=\"98750\")]"
      ]
     },
     "execution_count": 6,
     "metadata": {},
     "output_type": "execute_result"
    }
   ],
   "source": [
    "contenidos"
   ]
  },
  {
   "cell_type": "code",
   "execution_count": 78,
   "metadata": {},
   "outputs": [
    {
     "name": "stdout",
     "output_type": "stream",
     "text": [
      "'In''data''science,''80''percent''of''time''spent''is''preparing''data,''20''percent''of''time''is''spent''complaining''aout''the''need''to''prepare''data.'"
     ]
    }
   ],
   "source": [
    "#Con API Wrapper\n",
    "g=Github(<token>)\n",
    "repo=g.get_repo('ironhack-datalabs/scavenger')\n",
    "contenidos=repo.get_contents('')\n",
    "lista_paths=[]\n",
    "for contenido in contenidos[1:]:\n",
    "    for contents in repo.get_contents(contenido.path):\n",
    "        if contents.path.endswith('scavengerhunt'):\n",
    "            lista_paths.append(contents)\n",
    "paths_string=[]\n",
    "for x in lista_paths:\n",
    "    paths_string.append(x.path[6:])\n",
    "ordered_paths=sorted(list(zip(paths_string,lista_paths)))\n",
    "for x in ordered_paths:\n",
    "    print(re.sub('b','',str(x[1].decoded_content)).replace('\\\\n',''),end='')"
   ]
  },
  {
   "cell_type": "code",
   "execution_count": 83,
   "metadata": {},
   "outputs": [
    {
     "name": "stdout",
     "output_type": "stream",
     "text": [
      "'In''data''science,''80''percent''of''time''spent''is''preparing''data,''20''percent''of''time''is''spent''complaining''about''the''need''to''prepare''data.'"
     ]
    }
   ],
   "source": [
    "#Sin API Wrapper\n",
    "\n",
    "repo_contents=requests.get(\"https://api.github.com/repos/ironhack-datalabs/scavenger/contents/\")\n",
    "repo_contents=repo_contents.json()\n",
    "lista_paths=[paths[\"path\"] for paths in repo_contents[1:]]\n",
    "lista_paths2=[]\n",
    "for i in lista_paths:\n",
    "    path_contents=requests.get(\"https://api.github.com/repos/ironhack-datalabs/scavenger/contents/\"+i)\n",
    "    path_contents=path_contents.json()\n",
    "    for j in path_contents:\n",
    "        if j[\"path\"].endswith('scavengerhunt'):\n",
    "            lista_paths2.append(j[\"path\"])\n",
    "paths_string=[]\n",
    "for x in lista_paths2:\n",
    "    paths_string.append(x[6:])\n",
    "ordered_paths=sorted(list(zip(paths_string,lista_paths2)))\n",
    "ordered_paths\n",
    "for x in ordered_paths:\n",
    "    repo_contents=requests.get(\"https://api.github.com/repos/ironhack-datalabs/scavenger/contents/\"+x[1])\n",
    "    repo_contents=repo_contents.json()\n",
    "    print(str(base64.decodebytes(bytes(repo_contents[\"content\"],encoding='utf-8')))[1:].replace('\\\\n',''),end='')"
   ]
  }
 ],
 "metadata": {
  "kernelspec": {
   "display_name": "Python 3",
   "language": "python",
   "name": "python3"
  },
  "language_info": {
   "codemirror_mode": {
    "name": "ipython",
    "version": 3
   },
   "file_extension": ".py",
   "mimetype": "text/x-python",
   "name": "python",
   "nbconvert_exporter": "python",
   "pygments_lexer": "ipython3",
   "version": "3.6.2"
  }
 },
 "nbformat": 4,
 "nbformat_minor": 4
}
