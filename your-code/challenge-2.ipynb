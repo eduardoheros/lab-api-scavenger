{
 "cells": [
  {
   "cell_type": "code",
   "execution_count": 58,
   "metadata": {},
   "outputs": [],
   "source": [
    "import requests\n",
    "import re\n",
    "import datetime"
   ]
  },
  {
   "cell_type": "code",
   "execution_count": 59,
   "metadata": {},
   "outputs": [],
   "source": [
    "respuesta1=requests.get(\"https://api.github.com/repos/eduardoheros/lab-web-scrapping/commits\")\n",
    "resultado1=respuesta1.json()"
   ]
  },
  {
   "cell_type": "code",
   "execution_count": 60,
   "metadata": {},
   "outputs": [
    {
     "data": {
      "text/plain": [
       "[{'sha': '53de770a546d0f1e4870334015df95efa7c277dc',\n",
       "  'node_id': 'MDY6Q29tbWl0MjYwNzU0Njg3OjUzZGU3NzBhNTQ2ZDBmMWU0ODcwMzM0MDE1ZGY5NWVmYTdjMjc3ZGM=',\n",
       "  'commit': {'author': {'name': 'Eduardo Heros',\n",
       "    'email': 'contacto@eduardoheros.com',\n",
       "    'date': '2020-05-04T05:20:29Z'},\n",
       "   'committer': {'name': 'Eduardo Heros',\n",
       "    'email': 'contacto@eduardoheros.com',\n",
       "    'date': '2020-05-04T05:20:29Z'},\n",
       "   'message': 'Done',\n",
       "   'tree': {'sha': '55e0b52e44dd4d6bb2f60f49f55812bce64cea45',\n",
       "    'url': 'https://api.github.com/repos/eduardoheros/lab-web-scrapping/git/trees/55e0b52e44dd4d6bb2f60f49f55812bce64cea45'},\n",
       "   'url': 'https://api.github.com/repos/eduardoheros/lab-web-scrapping/git/commits/53de770a546d0f1e4870334015df95efa7c277dc',\n",
       "   'comment_count': 0,\n",
       "   'verification': {'verified': False,\n",
       "    'reason': 'unsigned',\n",
       "    'signature': None,\n",
       "    'payload': None}},\n",
       "  'url': 'https://api.github.com/repos/eduardoheros/lab-web-scrapping/commits/53de770a546d0f1e4870334015df95efa7c277dc',\n",
       "  'html_url': 'https://github.com/eduardoheros/lab-web-scrapping/commit/53de770a546d0f1e4870334015df95efa7c277dc',\n",
       "  'comments_url': 'https://api.github.com/repos/eduardoheros/lab-web-scrapping/commits/53de770a546d0f1e4870334015df95efa7c277dc/comments',\n",
       "  'author': {'login': 'eduardoheros',\n",
       "   'id': 60823992,\n",
       "   'node_id': 'MDQ6VXNlcjYwODIzOTky',\n",
       "   'avatar_url': 'https://avatars2.githubusercontent.com/u/60823992?v=4',\n",
       "   'gravatar_id': '',\n",
       "   'url': 'https://api.github.com/users/eduardoheros',\n",
       "   'html_url': 'https://github.com/eduardoheros',\n",
       "   'followers_url': 'https://api.github.com/users/eduardoheros/followers',\n",
       "   'following_url': 'https://api.github.com/users/eduardoheros/following{/other_user}',\n",
       "   'gists_url': 'https://api.github.com/users/eduardoheros/gists{/gist_id}',\n",
       "   'starred_url': 'https://api.github.com/users/eduardoheros/starred{/owner}{/repo}',\n",
       "   'subscriptions_url': 'https://api.github.com/users/eduardoheros/subscriptions',\n",
       "   'organizations_url': 'https://api.github.com/users/eduardoheros/orgs',\n",
       "   'repos_url': 'https://api.github.com/users/eduardoheros/repos',\n",
       "   'events_url': 'https://api.github.com/users/eduardoheros/events{/privacy}',\n",
       "   'received_events_url': 'https://api.github.com/users/eduardoheros/received_events',\n",
       "   'type': 'User',\n",
       "   'site_admin': False},\n",
       "  'committer': {'login': 'eduardoheros',\n",
       "   'id': 60823992,\n",
       "   'node_id': 'MDQ6VXNlcjYwODIzOTky',\n",
       "   'avatar_url': 'https://avatars2.githubusercontent.com/u/60823992?v=4',\n",
       "   'gravatar_id': '',\n",
       "   'url': 'https://api.github.com/users/eduardoheros',\n",
       "   'html_url': 'https://github.com/eduardoheros',\n",
       "   'followers_url': 'https://api.github.com/users/eduardoheros/followers',\n",
       "   'following_url': 'https://api.github.com/users/eduardoheros/following{/other_user}',\n",
       "   'gists_url': 'https://api.github.com/users/eduardoheros/gists{/gist_id}',\n",
       "   'starred_url': 'https://api.github.com/users/eduardoheros/starred{/owner}{/repo}',\n",
       "   'subscriptions_url': 'https://api.github.com/users/eduardoheros/subscriptions',\n",
       "   'organizations_url': 'https://api.github.com/users/eduardoheros/orgs',\n",
       "   'repos_url': 'https://api.github.com/users/eduardoheros/repos',\n",
       "   'events_url': 'https://api.github.com/users/eduardoheros/events{/privacy}',\n",
       "   'received_events_url': 'https://api.github.com/users/eduardoheros/received_events',\n",
       "   'type': 'User',\n",
       "   'site_admin': False},\n",
       "  'parents': [{'sha': 'ae01085f77a4cf35f396e854a3e4cf1e2a53bc3c',\n",
       "    'url': 'https://api.github.com/repos/eduardoheros/lab-web-scrapping/commits/ae01085f77a4cf35f396e854a3e4cf1e2a53bc3c',\n",
       "    'html_url': 'https://github.com/eduardoheros/lab-web-scrapping/commit/ae01085f77a4cf35f396e854a3e4cf1e2a53bc3c'}]},\n",
       " {'sha': 'ae01085f77a4cf35f396e854a3e4cf1e2a53bc3c',\n",
       "  'node_id': 'MDY6Q29tbWl0MjYwNzU0Njg3OmFlMDEwODVmNzdhNGNmMzVmMzk2ZTg1NGEzZTRjZjFlMmE1M2JjM2M=',\n",
       "  'commit': {'author': {'name': 'Eduardo Heros',\n",
       "    'email': 'contacto@eduardoheros.com',\n",
       "    'date': '2020-05-03T19:06:43Z'},\n",
       "   'committer': {'name': 'Eduardo Heros',\n",
       "    'email': 'contacto@eduardoheros.com',\n",
       "    'date': '2020-05-03T19:06:43Z'},\n",
       "   'message': 'avance',\n",
       "   'tree': {'sha': 'ccad6b12876efc2e2910188f5db50d6074f4a65a',\n",
       "    'url': 'https://api.github.com/repos/eduardoheros/lab-web-scrapping/git/trees/ccad6b12876efc2e2910188f5db50d6074f4a65a'},\n",
       "   'url': 'https://api.github.com/repos/eduardoheros/lab-web-scrapping/git/commits/ae01085f77a4cf35f396e854a3e4cf1e2a53bc3c',\n",
       "   'comment_count': 0,\n",
       "   'verification': {'verified': False,\n",
       "    'reason': 'unsigned',\n",
       "    'signature': None,\n",
       "    'payload': None}},\n",
       "  'url': 'https://api.github.com/repos/eduardoheros/lab-web-scrapping/commits/ae01085f77a4cf35f396e854a3e4cf1e2a53bc3c',\n",
       "  'html_url': 'https://github.com/eduardoheros/lab-web-scrapping/commit/ae01085f77a4cf35f396e854a3e4cf1e2a53bc3c',\n",
       "  'comments_url': 'https://api.github.com/repos/eduardoheros/lab-web-scrapping/commits/ae01085f77a4cf35f396e854a3e4cf1e2a53bc3c/comments',\n",
       "  'author': {'login': 'eduardoheros',\n",
       "   'id': 60823992,\n",
       "   'node_id': 'MDQ6VXNlcjYwODIzOTky',\n",
       "   'avatar_url': 'https://avatars2.githubusercontent.com/u/60823992?v=4',\n",
       "   'gravatar_id': '',\n",
       "   'url': 'https://api.github.com/users/eduardoheros',\n",
       "   'html_url': 'https://github.com/eduardoheros',\n",
       "   'followers_url': 'https://api.github.com/users/eduardoheros/followers',\n",
       "   'following_url': 'https://api.github.com/users/eduardoheros/following{/other_user}',\n",
       "   'gists_url': 'https://api.github.com/users/eduardoheros/gists{/gist_id}',\n",
       "   'starred_url': 'https://api.github.com/users/eduardoheros/starred{/owner}{/repo}',\n",
       "   'subscriptions_url': 'https://api.github.com/users/eduardoheros/subscriptions',\n",
       "   'organizations_url': 'https://api.github.com/users/eduardoheros/orgs',\n",
       "   'repos_url': 'https://api.github.com/users/eduardoheros/repos',\n",
       "   'events_url': 'https://api.github.com/users/eduardoheros/events{/privacy}',\n",
       "   'received_events_url': 'https://api.github.com/users/eduardoheros/received_events',\n",
       "   'type': 'User',\n",
       "   'site_admin': False},\n",
       "  'committer': {'login': 'eduardoheros',\n",
       "   'id': 60823992,\n",
       "   'node_id': 'MDQ6VXNlcjYwODIzOTky',\n",
       "   'avatar_url': 'https://avatars2.githubusercontent.com/u/60823992?v=4',\n",
       "   'gravatar_id': '',\n",
       "   'url': 'https://api.github.com/users/eduardoheros',\n",
       "   'html_url': 'https://github.com/eduardoheros',\n",
       "   'followers_url': 'https://api.github.com/users/eduardoheros/followers',\n",
       "   'following_url': 'https://api.github.com/users/eduardoheros/following{/other_user}',\n",
       "   'gists_url': 'https://api.github.com/users/eduardoheros/gists{/gist_id}',\n",
       "   'starred_url': 'https://api.github.com/users/eduardoheros/starred{/owner}{/repo}',\n",
       "   'subscriptions_url': 'https://api.github.com/users/eduardoheros/subscriptions',\n",
       "   'organizations_url': 'https://api.github.com/users/eduardoheros/orgs',\n",
       "   'repos_url': 'https://api.github.com/users/eduardoheros/repos',\n",
       "   'events_url': 'https://api.github.com/users/eduardoheros/events{/privacy}',\n",
       "   'received_events_url': 'https://api.github.com/users/eduardoheros/received_events',\n",
       "   'type': 'User',\n",
       "   'site_admin': False},\n",
       "  'parents': [{'sha': 'c81ec48effaaa568e37bdf0bad21624182d03f5d',\n",
       "    'url': 'https://api.github.com/repos/eduardoheros/lab-web-scrapping/commits/c81ec48effaaa568e37bdf0bad21624182d03f5d',\n",
       "    'html_url': 'https://github.com/eduardoheros/lab-web-scrapping/commit/c81ec48effaaa568e37bdf0bad21624182d03f5d'}]},\n",
       " {'sha': 'c81ec48effaaa568e37bdf0bad21624182d03f5d',\n",
       "  'node_id': 'MDY6Q29tbWl0MjYwNzU0Njg3OmM4MWVjNDhlZmZhYWE1NjhlMzdiZGYwYmFkMjE2MjQxODJkMDNmNWQ=',\n",
       "  'commit': {'author': {'name': 'ta-data-mexpt',\n",
       "    'email': '55260094+ta-data-mexpt@users.noreply.github.com',\n",
       "    'date': '2020-03-19T03:24:09Z'},\n",
       "   'committer': {'name': 'GitHub',\n",
       "    'email': 'noreply@github.com',\n",
       "    'date': '2020-03-19T03:24:09Z'},\n",
       "   'message': 'INIT',\n",
       "   'tree': {'sha': '6ffd4974d15104fd4645f67486cd2b36476b671f',\n",
       "    'url': 'https://api.github.com/repos/eduardoheros/lab-web-scrapping/git/trees/6ffd4974d15104fd4645f67486cd2b36476b671f'},\n",
       "   'url': 'https://api.github.com/repos/eduardoheros/lab-web-scrapping/git/commits/c81ec48effaaa568e37bdf0bad21624182d03f5d',\n",
       "   'comment_count': 0,\n",
       "   'verification': {'verified': True,\n",
       "    'reason': 'valid',\n",
       "    'signature': '-----BEGIN PGP SIGNATURE-----\\n\\nwsBcBAABCAAQBQJecuXZCRBK7hj4Ov3rIwAAdHIIAJ5SIawcViOFG36Zkx2u9+Qb\\npd9KbNidF54ts9DBvOgFXzjLMpcghwbmv5ckHEXn4jr7x7/RXmYGtmxJyRPZNvU2\\n8EUrQuS2iQWQMopwI7MNUsjGJflwGPjWxZiQ0mj+cBpV5H71jstE0FChQo7pMVAH\\nyPMpe3ZQi66rNSaOhaGPkxUdItXuSgoBb5c/ha+Jg19vMjh+p6+znW4867G9mqEE\\n/O1dIDe1xSSTpuDTQy7MKyJq5qbrlyTKcm7wwt4NkZ9KsOvGpoDeZHSyfXzlnQ9l\\neSL0OlkSk5mv61tIPKKtlactbCxns3Hv+d7LOx3NRqGTFt591Y+TSA39n6I/8DA=\\n=VFyw\\n-----END PGP SIGNATURE-----\\n',\n",
       "    'payload': 'tree 6ffd4974d15104fd4645f67486cd2b36476b671f\\nauthor ta-data-mexpt <55260094+ta-data-mexpt@users.noreply.github.com> 1584588249 -0600\\ncommitter GitHub <noreply@github.com> 1584588249 -0600\\n\\nINIT'}},\n",
       "  'url': 'https://api.github.com/repos/eduardoheros/lab-web-scrapping/commits/c81ec48effaaa568e37bdf0bad21624182d03f5d',\n",
       "  'html_url': 'https://github.com/eduardoheros/lab-web-scrapping/commit/c81ec48effaaa568e37bdf0bad21624182d03f5d',\n",
       "  'comments_url': 'https://api.github.com/repos/eduardoheros/lab-web-scrapping/commits/c81ec48effaaa568e37bdf0bad21624182d03f5d/comments',\n",
       "  'author': {'login': 'ta-data-mexpt',\n",
       "   'id': 55260094,\n",
       "   'node_id': 'MDQ6VXNlcjU1MjYwMDk0',\n",
       "   'avatar_url': 'https://avatars1.githubusercontent.com/u/55260094?v=4',\n",
       "   'gravatar_id': '',\n",
       "   'url': 'https://api.github.com/users/ta-data-mexpt',\n",
       "   'html_url': 'https://github.com/ta-data-mexpt',\n",
       "   'followers_url': 'https://api.github.com/users/ta-data-mexpt/followers',\n",
       "   'following_url': 'https://api.github.com/users/ta-data-mexpt/following{/other_user}',\n",
       "   'gists_url': 'https://api.github.com/users/ta-data-mexpt/gists{/gist_id}',\n",
       "   'starred_url': 'https://api.github.com/users/ta-data-mexpt/starred{/owner}{/repo}',\n",
       "   'subscriptions_url': 'https://api.github.com/users/ta-data-mexpt/subscriptions',\n",
       "   'organizations_url': 'https://api.github.com/users/ta-data-mexpt/orgs',\n",
       "   'repos_url': 'https://api.github.com/users/ta-data-mexpt/repos',\n",
       "   'events_url': 'https://api.github.com/users/ta-data-mexpt/events{/privacy}',\n",
       "   'received_events_url': 'https://api.github.com/users/ta-data-mexpt/received_events',\n",
       "   'type': 'User',\n",
       "   'site_admin': False},\n",
       "  'committer': {'login': 'web-flow',\n",
       "   'id': 19864447,\n",
       "   'node_id': 'MDQ6VXNlcjE5ODY0NDQ3',\n",
       "   'avatar_url': 'https://avatars3.githubusercontent.com/u/19864447?v=4',\n",
       "   'gravatar_id': '',\n",
       "   'url': 'https://api.github.com/users/web-flow',\n",
       "   'html_url': 'https://github.com/web-flow',\n",
       "   'followers_url': 'https://api.github.com/users/web-flow/followers',\n",
       "   'following_url': 'https://api.github.com/users/web-flow/following{/other_user}',\n",
       "   'gists_url': 'https://api.github.com/users/web-flow/gists{/gist_id}',\n",
       "   'starred_url': 'https://api.github.com/users/web-flow/starred{/owner}{/repo}',\n",
       "   'subscriptions_url': 'https://api.github.com/users/web-flow/subscriptions',\n",
       "   'organizations_url': 'https://api.github.com/users/web-flow/orgs',\n",
       "   'repos_url': 'https://api.github.com/users/web-flow/repos',\n",
       "   'events_url': 'https://api.github.com/users/web-flow/events{/privacy}',\n",
       "   'received_events_url': 'https://api.github.com/users/web-flow/received_events',\n",
       "   'type': 'User',\n",
       "   'site_admin': False},\n",
       "  'parents': []}]"
      ]
     },
     "execution_count": 60,
     "metadata": {},
     "output_type": "execute_result"
    }
   ],
   "source": [
    "resultado1"
   ]
  },
  {
   "cell_type": "code",
   "execution_count": 61,
   "metadata": {},
   "outputs": [
    {
     "name": "stdout",
     "output_type": "stream",
     "text": [
      "2020-05-04T05:20:29Z\n",
      "2020-05-03T19:06:43Z\n",
      "2020-03-19T03:24:09Z\n"
     ]
    }
   ],
   "source": [
    "lista_time=[]\n",
    "for i in resultado1:\n",
    "    print(i[\"commit\"][\"committer\"][\"date\"])\n",
    "    lista_time.append(i[\"commit\"][\"committer\"][\"date\"])\n",
    "    "
   ]
  },
  {
   "cell_type": "code",
   "execution_count": 62,
   "metadata": {},
   "outputs": [],
   "source": [
    "lista_time=[re.sub(\"T.*\",\"\",x).split(\"-\") for x in lista_time]"
   ]
  },
  {
   "cell_type": "code",
   "execution_count": 63,
   "metadata": {},
   "outputs": [],
   "source": [
    "lista_time1=[]\n",
    "for i in lista_time:\n",
    "    lista_time1.append(datetime.date(int(i[0]),int(i[1]),int(i[2])))"
   ]
  },
  {
   "cell_type": "code",
   "execution_count": 64,
   "metadata": {},
   "outputs": [],
   "source": [
    "one_week = datetime.timedelta(weeks=1)\n",
    "lastweek=datetime.date.today()-one_week"
   ]
  },
  {
   "cell_type": "code",
   "execution_count": 65,
   "metadata": {},
   "outputs": [],
   "source": [
    "lista_commits=[]\n",
    "for i in lista_time1:\n",
    "    if i>lastweek:\n",
    "        lista_commits.append(i)"
   ]
  },
  {
   "cell_type": "code",
   "execution_count": 66,
   "metadata": {},
   "outputs": [
    {
     "name": "stdout",
     "output_type": "stream",
     "text": [
      "Número de commits en la semana pasada: 2\n"
     ]
    }
   ],
   "source": [
    "print(\"Número de commits en la semana pasada:\",len(lista_commits))"
   ]
  },
  {
   "cell_type": "code",
   "execution_count": null,
   "metadata": {},
   "outputs": [],
   "source": []
  }
 ],
 "metadata": {
  "kernelspec": {
   "display_name": "Python 3",
   "language": "python",
   "name": "python3"
  },
  "language_info": {
   "codemirror_mode": {
    "name": "ipython",
    "version": 3
   },
   "file_extension": ".py",
   "mimetype": "text/x-python",
   "name": "python",
   "nbconvert_exporter": "python",
   "pygments_lexer": "ipython3",
   "version": "3.6.2"
  }
 },
 "nbformat": 4,
 "nbformat_minor": 4
}
