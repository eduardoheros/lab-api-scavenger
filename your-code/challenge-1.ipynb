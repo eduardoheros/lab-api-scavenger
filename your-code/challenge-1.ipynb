{
 "cells": [
  {
   "cell_type": "code",
   "execution_count": 11,
   "metadata": {},
   "outputs": [],
   "source": [
    "import requests"
   ]
  },
  {
   "cell_type": "code",
   "execution_count": 12,
   "metadata": {},
   "outputs": [],
   "source": [
    "respuesta1=requests.get(\"https://api.github.com/repos/Aniket965/Hello-world/forks\")\n",
    "resultado1=respuesta1.json()"
   ]
  },
  {
   "cell_type": "code",
   "execution_count": 13,
   "metadata": {},
   "outputs": [
    {
     "name": "stdout",
     "output_type": "stream",
     "text": [
      "['C++', 'Jupyter Notebook']\n"
     ]
    }
   ],
   "source": [
    "lista_lenguajes=[]\n",
    "for i in resultado1:\n",
    "    if i[\"language\"]:\n",
    "        lista_lenguajes.append(i[\"language\"])\n",
    "lista_lenguajes=list(set(lista_lenguajes))\n",
    "print(lista_lenguajes)"
   ]
  }
 ],
 "metadata": {
  "kernelspec": {
   "display_name": "Python 3",
   "language": "python",
   "name": "python3"
  },
  "language_info": {
   "codemirror_mode": {
    "name": "ipython",
    "version": 3
   },
   "file_extension": ".py",
   "mimetype": "text/x-python",
   "name": "python",
   "nbconvert_exporter": "python",
   "pygments_lexer": "ipython3",
   "version": "3.6.2"
  }
 },
 "nbformat": 4,
 "nbformat_minor": 4
}
